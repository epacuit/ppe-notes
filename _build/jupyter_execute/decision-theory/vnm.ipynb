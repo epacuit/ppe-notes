{
 "cells": [
  {
   "cell_type": "code",
   "execution_count": 1,
   "metadata": {
    "jupyter": {
     "source_hidden": true
    },
    "tags": [
     "hide_input"
    ]
   },
   "outputs": [],
   "source": [
    "from ipywidgets import interact, widget, interact_manual\n",
    "\n",
    "import ipywidgets as widgets\n",
    "\n",
    "from IPython.display import display, Math\n",
    "import math\n",
    "import matplotlib.pyplot as plt\n",
    "import numpy as np\n",
    "import seaborn as sns\n",
    "import collections"
   ]
  },
  {
   "cell_type": "markdown",
   "metadata": {},
   "source": [
    "# von Neumann-Morgenstern Theorem\n"
   ]
  },
  {
   "cell_type": "markdown",
   "metadata": {},
   "source": [
    "Suppose that $X$ is a finite set of *prizes* or *outcomes*.   Suppose that $Y=\\{x_1,\\ldots, x_n\\}$ is a set of $n$ elements from $X$.  A **lottery** on $Y$ is denoted as follows: $ [x_1:p_1,x_2:p_2,\\ldots, x_n:p_n ] $ where each $p_i\\ge 0$ and  $\\sum_{i=1}^n p_i=1$.  Let $\\mathcal{L}(X)$ be the set of lotteries on  $X$ (we often write $\\mathcal{L}$ instead of $\\mathcal{L}(X)$ to simplify notation).  There are two technical issues that need to be addressed.   \n",
    "\n",
    "1.  We can identify elements $x\\in X$ with lotteries $[x:1]$.    Thus, we may abuse notation and  say that \"$X$ is contained in $\\mathcal{L}$\".  \n",
    "2.  A  **compound lottery**.  Suppose that $L_1, \\ldots, L_n$ are lotteries. Then, $[L_1:p_1,\\ldots, L_n:p_n]$ is  the **compound lottery**, where $\\sum_{i=1}^n p_i=1$.\n"
   ]
  },
  {
   "cell_type": "markdown",
   "metadata": {},
   "source": [
    "We are interested in decision makers that have a rational preference $(P, I)$ on the set $\\mathcal{L}$ of lotteries (for some fixed set $X$).  Given two lotteries $L_1\\in \\mathcal{L}$ and $L_2\\in\\mathcal{L}$, we assume that a decision maker has one of the following opinions: \n",
    "\n",
    "1. The decision maker strict prefers $L_1$ over  $L_2$ (denoted $L_1\\mathrel{P} L_2$).\n",
    "2. The decision maker strict prefers $L_2$ over  $L_1$ (denoted $L_2\\mathrel{P} L_1$)\n",
    "3. The decision maker is indifferent between $L_1$ and  $L_2$  (denoted $L_1\\mathrel{I} L_2$).\n",
    "\n",
    "   \n",
    "One way to compare lotteries is to assign a number of each lottery and rank the lotteries according to the number assigned to them.   That is, for a set of lotteries $\\mathcal{L}$ and a function $V:\\mathcal{L}\\rightarrow\\mathbb{R}$ assigning a real number of teach lottery, define the relation $R_V$ as follows: for all $L, L'\\in \\mathcal{L}$, \n",
    "\n",
    "$$L\\mathrel{R_V} L'\\text{ if, and only if, }V(L)\\ge V(L').$$  \n",
    "\n",
    "One way to define a function $V:\\mathcal{L}\\rightarrow\\mathbb{R}$ for the set of lotteries $\\mathcal{L}$ on $X$ is to start with a utility function on the set of prizes $u:X\\rightarrow\\mathbb{R}$ and then  for each $L\\in\\mathcal{L}(X)$ define $V(L)$ as some function combining the probabilities in $L$ with the utility of the prizes in $L$. \n",
    "\n",
    "For example, let $u:X\\rightarrow\\mathbb{R}$ be a utility function on $X$.   The following are examples of different ways to assign a value to lotteries: \n",
    "\n",
    "1. $V_1:\\mathcal{L}\\rightarrow\\mathbb{R}$ is the function where for each $L=[x_1:p_1,\\ldots, x_n:p_n]$, $V_1(L) = \\min\\{u(x_1), \\ldots, u(x_n)\\}$\n",
    "1. $V_2:\\mathcal{L}\\rightarrow\\mathbb{R}$ is the function where for each $L=[x_1:p_1,\\ldots, x_n:p_n]$, $V_2(L) = \\sum_{i=1}^n u(x_i)$\n",
    "1. $V_3:\\mathcal{L}\\rightarrow\\mathbb{R}$ is the function where for each $L=[x_1:p_1,\\ldots, x_n:p_n]$, $V_3(L) = \\sum_{i=1}^n p_i * u(x_i)$\n",
    "1. $V_4:\\mathcal{L}\\rightarrow\\mathbb{R}$ is the function where for each $L=[x_1:p_1,\\ldots, x_n:p_n]$, $V_4(L) = (\\sum_{i=1}^n p_i * u(x_i)) + 0.2$\n",
    "1. $V_5:\\mathcal{L}\\rightarrow\\mathbb{R}$ is the function where for each $L=[x_1:p_1,\\ldots, x_n:p_n]$, $V_5(L) = (\\sum_{i=1}^n p_i * 2 * u(x_i)) + 0.2$\n",
    "1. $V_6:\\mathcal{L}\\rightarrow\\mathbb{R}$ is the function where for each $L=[x_1:p_1,\\ldots, x_n:p_n]$, $V_7(L) = (\\sum_{i=1}^n p_i * u(x_i))^4$\n",
    "1. $V_7:\\mathcal{L}\\rightarrow\\mathbb{R}$ is the function where for each $L=[x_1:p_1,\\ldots, x_n:p_n]$, $V_7(L) = (\\sum_{i=1}^n p_i^2 * u(x_i))$\n",
    "\n",
    "We can also define functions that treat sure-things different than other lotteries: Let $V_8:\\mathcal{L}\\rightarrow\\mathbb{R}$ be  the function where: \n",
    "\n",
    "$V_8(L)=  u(z)$   if $L$ is equivalent to $[z:1]$ for some $z\\in X$, otherwise $V_8(L) = \\sum_{i=1}^n p_i u(x_i) + 0.2$  if $L=[x_1:p_1,\\ldots, x_n:p_n]$ with at least two non-zero probabilities.\n",
    "\n",
    "\n",
    "Note that function $V_3$ is the **expected utility** of lotteries with respect to the utility function $u$.  The key property of the expected utility valuation function is that it is linear: \n",
    "\n",
    "A function $V:\\mathcal{L}\\rightarrow \\mathbb{R}$ is **linear** provided that for all $L=[L_1:p_1, \\ldots, L_n:p_n]$, $V(L)=\\sum_{i=1}^n p_i * V(L_i)$. \n",
    "\n",
    "The functions $V_3, V_4$ and $V_5$ are all linear.  \n",
    "\n",
    "To illustrate the above functions, let $X=\\{a,b,c\\}$ and consider the utility function $u:X\\rightarrow \\mathbb{R}$ where  $u(a)=1$, $u(b)=0.5$ and $u(c)=0$.  Enter the probability for the prizes to see the different values associated with the lottery. "
   ]
  },
  {
   "cell_type": "code",
   "execution_count": 2,
   "metadata": {
    "jupyter": {
     "source_hidden": true
    },
    "tags": [
     "hide_input",
     "hide_output"
    ]
   },
   "outputs": [
    {
     "data": {
      "application/vnd.jupyter.widget-view+json": {
       "model_id": "8def7cf04a5e4eff8b9aabc324a78cfe",
       "version_major": 2,
       "version_minor": 0
      },
      "text/plain": [
       "interactive(children=(FloatSlider(value=0.0, description='$p(a)=$', max=1.0, step=0.01), FloatSlider(value=0.0…"
      ]
     },
     "metadata": {},
     "output_type": "display_data"
    },
    {
     "name": "stdout",
     "output_type": "stream",
     "text": [
      "\n"
     ]
    }
   ],
   "source": [
    "a=\"a\"\n",
    "b=\"b\"\n",
    "c=\"c\"\n",
    "util={a:1, b:0.5, c:0}\n",
    "X=[a,b,c]\n",
    "\n",
    "def v1(ps):\n",
    "    \"\"\"V_1\"\"\"\n",
    "    return min([util[a] for idx,a in enumerate(X) if ps[idx] != 0])\n",
    "def v2(ps):\n",
    "    \"\"\"V_2\"\"\"\n",
    "    return sum([util[a] for idx,a in enumerate(X) if ps[idx] != 0])\n",
    "def v3(ps):\n",
    "    \"\"\"V_3\"\"\"\n",
    "    return sum([ps[idx] * util[a] for idx,a in enumerate(X)])\n",
    "def v4(ps):\n",
    "    \"\"\"V_4\"\"\"\n",
    "    return sum([ps[idx] * util[a] for idx,a in enumerate(X)]) + 0.2\n",
    "def v5(ps):\n",
    "    \"\"\"V_5\"\"\"\n",
    "    return sum([ps[idx] * 2 * util[a] for idx,a in enumerate(X)]) + 0.2\n",
    "def v6(ps):\n",
    "    \"\"\"V_6\"\"\"\n",
    "    return (sum([ps[idx] * util[a] for idx,a in enumerate(X)]))**4\n",
    "def v7(ps):\n",
    "    \"\"\"V_7\"\"\"\n",
    "    return (sum([ps[idx]**2 * util[a] for idx,a in enumerate(X)]))\n",
    "def V8(ps):\n",
    "    \"\"\"V_8\"\"\"\n",
    "    if any([ps[idx] == 1 for idx,a in enumerate(X)]):\n",
    "        return [util[a] for idx,a in enumerate(X) if ps[idx] == 1][0]\n",
    "    else: \n",
    "        return (sum([ps[idx] * util[a] for idx,a in enumerate(X)])) + 0.2\n",
    "\n",
    "def find_value(p1, p2, p3):\n",
    "    ps=[p1, p2, p3]\n",
    "    print(\"\\n\")\n",
    "    if math.fabs(sum(ps) - 1.0) > 0.00000000001: \n",
    "        print(f\"{ps} is not a probability\")\n",
    "    else:\n",
    "        display(Math(\"V_1(L) = \\min(\" + str(\", \".join([str(util[a]) for idx, a in enumerate(X) if ps[idx] != 0])) + \") = \" + str(v1(ps))))\n",
    "        display(Math(\"V_2(L) = \" + str(\"+ \".join([str(util[a]) for idx, a in enumerate(X) if ps[idx] != 0])) + \" = \"+ str(v2(ps))))\n",
    "        display(Math(\"V_3(L) = \" + str(\"+ \".join([str(ps[idx]) + \"* \" + str(util[a]) for idx, a in enumerate(X) if ps[idx] != 0])) + \" = \"+ str(round(v3(ps),3))))\n",
    "        display(Math(\"V_4(L) = \" + str(\"+ \".join([str(ps[idx]) + \"* \" + str(util[a]) for idx, a in enumerate(X) if ps[idx] != 0])) + \"+ 0.2\" + \" = \"+ str(round(v4(ps), 3))))\n",
    "        display(Math(\"V_5(L) = \" + str(\"+ \".join([str(ps[idx]) + \"* 2 *\" + str(util[a]) for idx, a in enumerate(X) if ps[idx] != 0])) + \"+ 0.2\" + \" = \"+ str(round(v5(ps), 3))))\n",
    "        display(Math(\"V_6(L) = (\"  + str(\"+ \".join([str(ps[idx]) + \"* \" +  str(util[a]) for idx, a in enumerate(X) if ps[idx] != 0])) + \")^4 = \"+ str(round(v6(ps), 3))))\n",
    "        display(Math(\"V_7(L) = (\"  + str(\"+ \".join([str(ps[idx]) + \"^2 * \" +  str(util[a]) for idx, a in enumerate(X) if ps[idx] != 0])) + \") = \"+ str(round(v7(ps), 3))))\n",
    "        if any([ps[idx] == 1 for idx,a in enumerate(X)]):\n",
    "            display(Math(\"V_8(L) = \" + str(V8(ps))))\n",
    "        else: \n",
    "            display(Math(\"V_8(L) = \" + str(\"+ \".join([str(ps[idx]) + \"* \" + str(util[a]) for idx, a in enumerate(X) if ps[idx] != 0])) + \"+ 0.2 = \"+ str(round(V8(ps),3))))\n",
    "interact_manual(find_value, \n",
    "        p1 = widgets.FloatSlider(min=0.0, max=1.0, value=0.0, step=0.01, description='$p(a)=$'),\n",
    "        p2 = widgets.FloatSlider(min=0.0, max=1.0, value=0.0, step=0.01, description='$p(b)=$'),\n",
    "        p3 = widgets.FloatSlider(min=0.0, max=1.0, value=0.0, step=0.01, description='$p(c)=$'))\n",
    "print()"
   ]
  },
  {
   "cell_type": "markdown",
   "metadata": {},
   "source": [
    "It is also useful to compare the above 8 value functions based on the value that assign to the lottery $L=[a:p, b:1-p]$ as $p$ ranges from 0 to 1. "
   ]
  },
  {
   "cell_type": "code",
   "execution_count": 3,
   "metadata": {
    "jupyter": {
     "source_hidden": true
    },
    "tags": [
     "hide_input"
    ]
   },
   "outputs": [
    {
     "data": {
      "image/png": "[encoded data removed]",
      "text/plain": [
       "<Figure size 648x864 with 2 Axes>"
      ]
     },
     "metadata": {
      "filenames": {
       "image/png": "/Users/epacuit/Dropbox/teaching/ppe-notes2/_build/jupyter_execute/decision-theory/vnm_6_0.png"
      }
     },
     "output_type": "display_data"
    }
   ],
   "source": [
    "sns.set()\n",
    "xs = np.arange(0.0, 1.0, 0.001)\n",
    "fig, ax = plt.subplots(nrows=2, figsize=(9,12))\n",
    "\n",
    "ys=[v3([x, 1-x, 0]) for x in xs]\n",
    "ax[0].plot(xs, ys, lw=3, label=\"$\" + v3.__doc__+ \"([a:p, b:1-p])$\")\n",
    "\n",
    "ys=[v4([x, 1-x, 0]) for x in xs]\n",
    "ax[0].plot(xs, ys, lw=1.5, label=\"$\" + v3.__doc__+ \"([a:p, b:1-p])$\")\n",
    "\n",
    "ys=[v5([x, 1-x, 0]) for x in xs]\n",
    "ax[0].plot(xs, ys, lw=1.5, label=\"$\" + v3.__doc__+ \"([a:p, b:1-p])$\")\n",
    "ax[0].legend(bbox_to_anchor=(1.05, 1), loc='upper left', borderaxespad=0.)\n",
    "ax[0].set(xlabel='', ylabel='value',\n",
    "       title='Linear value functions')\n",
    "\n",
    "for v in [v1,v2,v6,v7, V8]:\n",
    "    ys=[v([x, 1-x, 0]) for x in xs]\n",
    "    ax[1].plot(xs, ys, lw=1.5, label=\"$\" + v.__doc__+ \"([a:p, b:1-p])$\")\n",
    "\n",
    "ax[1].set(xlabel='probabilities', ylabel='value',\n",
    "       title='Non-linear value functions')\n",
    "ax[1].legend(bbox_to_anchor=(1.05, 1), loc='upper left', borderaxespad=0.)\n",
    "\n",
    "plt.suptitle(\"\\n\\nValue of the lottery $[a:p, b:1-p]$ with $u(a)=1$, $u(b)=0.5$\")\n",
    "\n",
    "plt.show()"
   ]
  },
  {
   "cell_type": "markdown",
   "metadata": {},
   "source": [
    "\n",
    "The von Neumann-Morgenstern Theorem characterizes the  relations on the set of lotteries $\\mathcal{L}$  that can be represented by *linear* utility functions. Suppose that $X$ is a set,  $\\mathcal{L}$ is the set of lotteries on $X$, and $R$ is a relation on $\\mathcal{L}$.  von Neumann and Morgenstern consider the following 4 axioms. \n",
    "\n",
    "\n",
    "The first axiom is the standard assumption that rational preferences are complete and transitive: \n",
    "\n",
    "**Preference**: The relation $R$ is a complete and transitive relation on $\\mathcal{L}$. \n",
    "\n",
    "\n",
    "The next two axioms play a central role  von Neumann-Morgenstern theorem.   \n",
    " \n",
    "\n",
    "**Independence**  For all $L_1, L_2, L_3\\in\\mathcal{L}$ and $p\\in (0,1] $, \n",
    "\n",
    "1. $L_1\\mathrel{P} L_2$ if, and only if, $[L_1:p, L_3:(1-p)]\\mathrel{P} [L_2:p, L_3:(1-p)]$.\n",
    "\n",
    "\n",
    "**Continuity**  For all $L_1, L_2, L_3\\in\\mathcal{L}$, if $L_1\\succ L_2\\succ L_3$, then there exists $p\\in (0,1)$ such that  $L_2\\sim [L_1:p, L_3:(1-p)]$. \n",
    "\n",
    "\n",
    "Both axioms have been criticized as  *rationality* principles.  For example, consider the continuity axiom.  Consider the prizes $x=$ \"win 1000\", $y=$ \"win 100\" and $z=$ \"get hit by a car\".   Clearly, it is natural to assume that a decision make would have the preference $x\\succ y\\succ z$.   Now, Continuity implies that there is some number $a\\in (0,1)$ such that $[x:a, z:(1-a)]\\succ [y:1]$.  Thus, the decision maker would strictly prefer a lottery in which there is some non-zero chance of getting hit by a car to a lottery in which gives a guaranteed payoff of \\$100.  Arguably, many people would not hold such a preference no matter how small the chance is of getting hit by a car.       Here we bracket this are related philosophical discussions about the  above axioms and focus on what follows from the axioms. The first observation is a straightforward consequence of Independence and the assumption that the preference ordering is complete. \n",
    "\n",
    "**Lemma** Suppose that $R$ is a preference relation on $\\mathcal{L}$ satisfying the Independence axiom.   For all lotteries $L_1, L_2, L_3\\in \\mathcal{L}$ and real numbers $a\\in [0,1]$, if $L_1\\mathcal{I} L_2$, then $[L_1:a,L_3:(1-a)]\\mathcal{I} [L_2:a, L_3:(1-a)]$. \t\n",
    " \n",
    "\n",
    "The second observation is that   decision makers prefers lotteries in which there is a better chance of winning a more  preferred prize.\n",
    "\n",
    "**Lemma** If $R$ is a preference relation on $\\mathcal{L}$ satisfying Compound Lotteries and  Independence, then for all lotteries $L_1, L_2\\in \\mathcal{L}$, if $L_1\\mathrel{P} L_2$, and  $1\\ge a > b\\ge 0$, then $[L_1:a, L_2:(1-a)] \\mathrel{P} [L_1:b, L_2:(1-b)]$. \n",
    " \n",
    "\n",
    "The last axiom concerns *compound lotteries*: \n",
    "\n",
    "**Compound Lotteries**:   Suppose that $[L_1:p_1,\\ldots, L_n,p_n]$ is a compound lottery, where for each $i=1,\\ldots, n$, we have $L_i=[x_1:p_1^i,\\ldots, x_n:p_n^i]$.  Then, \n",
    "$$[L_1:p_1,\\ldots, L_n,p_n]\\mathrel{I} [x_1:(p_1p_1^1+ p_2p_1^2 + \\cdots p_np_1^n),\\ldots, x_1:(p_1p_n^1+ p_2p_n^2 + \\cdots p_np_n^n)]$$   \n",
    "\n",
    "\n",
    "The axiom means that decision makers do not get any utility from the \"thrill of gambling\". That is, what matters to the decision maker is how likely she is to receive prizes that she prefers. For example, suppose that    $L_1=[x:1]$ and $L_2=[y_1:0.2, y_2:0.4, y_3:0.4]$.   Then, the decision maker is assumed to be indifferent between the compound lottery $L_3=[L_1:0.3, L_2:0.7]$ and the simple lottery $L_4=[x:0.3, y_1:0.14, y_2:0.28, y_3:0.28]$.\n",
    "\n",
    "**The von Neumann-Morgentern Representation Theorem**   A binary relation $R$ on $\\mathcal{L}$ satisfies Preference, Independence, Continuity and Compound Lotteries iff  $R$ is representable by a linear utility function $V:\\mathcal{L}\\rightarrow\\mathbb{R}$. \n",
    "\n",
    " Moreover,   $V':\\mathcal{L}\\rightarrow\\mathbb{R}$ represents $R$  if, and only if,  there exists real numbers $c>0$ and $d$ such that for all lotteries $L\\in\\mathcal{L}$,   $V'(L)=cV(L)+d$.   (\"$V$ is unique up to linear transformations.\") \n",
    "\n"
   ]
  },
  {
   "cell_type": "markdown",
   "metadata": {},
   "source": [
    "One consequence of the von Neumann-Morgenstern Theorem is that a preference ordering generated by a value function that is not linear must violate at least one of the von Neumann-Morgenstern axioms.  For instance, consider the value function $V_8$.  This function is not  linear: \n",
    "$$V_8([a:0.5, c:0.5]) = 0.5* u(a) + 0.5 * u(c) + 0.2 = 0.7\\ne 0.5*V_8([a:1]) + 0.5 * V_8([c:1]) = 0.5$$\n",
    "(Recall that we identify each item in $X$ with the sure-thing lottery.)\n",
    "\n",
    "This means that the preference ordering  $R_{V_8}$ generated by $V_8$ must violate at least one the 4 axioms used in the von Neumann-Morgenstern Theorem. \n",
    "\n",
    "Since $R_{V_8}$ is represented by a utility function on the lotteries (i.e., it assigns a real number to every lottery), we have that $R_{V_8}$  is complete and transitive.  It is also easy to see that $R_{V_8}$ satisfies Compound Lotteries.   \n",
    "\n",
    "This means that $R_{V_8}$ must violates either the Independence Axiom or the Continuity Axiom (or both). \n",
    "\n",
    "#### $R_{V_8}$ violations the Indepdendence Axiom\n",
    "\n",
    "To show that $\\succeq_{V_8}$ violates the Independence Axiom, we must find three lotteries $L_1$, $L_2$, $L_3$ and a $p\\in (0,1]$ such that $L_1 R_{V_8} L_2$ but $[L_1:p, L_3:(1-p)]\\not\\succeq_{V_8} [L_2:p, L_3:(1-p) ]$. \n",
    "\n"
   ]
  },
  {
   "cell_type": "code",
   "execution_count": 4,
   "metadata": {
    "jupyter": {
     "source_hidden": true
    },
    "tags": [
     "hide_input"
    ]
   },
   "outputs": [],
   "source": [
    "# define some variables to simplify the code\n",
    "A = \"a\"\n",
    "B = \"b\"\n",
    "C = \"c\"\n",
    " \n",
    "prizes = [A, B, C]\n",
    "utils = {A:1, B:0.5, C:0}\n",
    "\n",
    "# a lottery component is a named tuple with a prize element and pr (probability) element\n",
    "LC = collections.namedtuple('LC', 'prize pr')\n",
    "\n",
    "# lotteries are lists of LC objects\n",
    "\n",
    "def is_sure_thing(L):\n",
    "    \n",
    "    return any([lc.prize in prizes and lc.pr == 1 for lc in L])\n",
    "\n",
    "def is_simple_lottery(L):\n",
    "    \n",
    "    return all([type(lc.prize) != list or is_sure_thing(lc.prize) for lc in L])\n",
    "\n",
    "def get_prize(lc):\n",
    "    \n",
    "    prize = None\n",
    "    \n",
    "    if type(lc.prize) != list:\n",
    "        prize = lc.prize\n",
    "    elif is_sure_thing(lc.prize):\n",
    "        prize = [_lc.prize for _lc in lc.prize if  _lc.pr == 1][0]\n",
    "\n",
    "    return prize\n",
    "\n",
    "def find_value(potential_lottery): \n",
    "    \n",
    "    if type(potential_lottery) != list: \n",
    "        return utils[potential_lottery]\n",
    "    else:\n",
    "        return sum(find_value(_lc.prize) * _lc.pr for _lc in potential_lottery) - 0.1\n",
    "    \n",
    "def print_lottery(L):\n",
    "    return \"[\" + ', '.join([str(lc.prize) + \": \" + str(lc.pr) for lc in L]) + \"]\"\n",
    "\n",
    "def eu(L):\n",
    "    \n",
    "    assert sum(lc.pr for lc in L) == 1, \"Probabilities in lotteries must sum to 1: {}\".format(L)\n",
    "    \n",
    "    if is_simple_lottery(L):\n",
    "        return sum(utils[get_prize(lc)] * lc.pr for lc in L) \n",
    "    else:\n",
    "        return sum(find_value(lc.prize) * lc.pr for lc in L)\n",
    "\n",
    "def v8(L):\n",
    "        \n",
    "    if L in prizes: \n",
    "        assert L in utils.keys(), \"Error: {} not assigned a utility\".format(L)\n",
    "        val = utils[L]\n",
    "    else:\n",
    "        assert sum(lc.pr for lc in L) == 1, \"Probabilities in lotteries must sum to 1: {}\".format(L)\n",
    "        \n",
    "        is_sure_thing = any([lc.prize in prizes and lc.pr == 1 for lc in L])\n",
    "\n",
    "        if is_sure_thing:\n",
    "            val = utils[[lc.prize for lc in L if lc.prize in prizes and lc.pr == 1][0]]\n",
    "        else:\n",
    "            val = eu(L) + 0.2 \n",
    "        \n",
    "    return val\n",
    "     "
   ]
  },
  {
   "cell_type": "code",
   "execution_count": 5,
   "metadata": {
    "jupyter": {
     "source_hidden": true
    },
    "tags": [
     "hide_input",
     "hide_output"
    ]
   },
   "outputs": [
    {
     "name": "stdout",
     "output_type": "stream",
     "text": [
      "Consider the lotteries: \n"
     ]
    },
    {
     "data": {
      "text/latex": [
       "$\\displaystyle L_1 = [a: 0.1, b: 0.0, c: 0.9]$"
      ],
      "text/plain": [
       "<IPython.core.display.Math object>"
      ]
     },
     "metadata": {},
     "output_type": "display_data"
    },
    {
     "data": {
      "text/latex": [
       "$\\displaystyle L_2 = [a: 0.0, b: 1.0, c: 0.0]$"
      ],
      "text/plain": [
       "<IPython.core.display.Math object>"
      ]
     },
     "metadata": {},
     "output_type": "display_data"
    },
    {
     "data": {
      "text/latex": [
       "$\\displaystyle L_3 = [a: 0.0, b: 0.0, c: 1.0]$"
      ],
      "text/plain": [
       "<IPython.core.display.Math object>"
      ]
     },
     "metadata": {},
     "output_type": "display_data"
    },
    {
     "name": "stdout",
     "output_type": "stream",
     "text": [
      "Find a probability that illustrates a violation of the Independence Axiom\n"
     ]
    },
    {
     "data": {
      "application/vnd.jupyter.widget-view+json": {
       "model_id": "19c6a57f088942158399b315fa420c93",
       "version_major": 2,
       "version_minor": 0
      },
      "text/plain": [
       "interactive(children=(FloatSlider(value=1.0, description='$p$=', max=1.0, step=0.01), Output()), _dom_classes=…"
      ]
     },
     "metadata": {},
     "output_type": "display_data"
    }
   ],
   "source": [
    "\n",
    "L1 = [LC(prize=A, pr=0.1),  \n",
    "      LC(prize=B,pr=0.0),  \n",
    "      LC(prize=C,pr=0.9)]\n",
    "\n",
    "L2 = [LC(prize=A, pr=0.0),  \n",
    "      LC(prize=B,pr=1.0),  \n",
    "      LC(prize=C,pr=0.0)]\n",
    "\n",
    "L = [LC(prize=A, pr=0.0),  \n",
    "      LC(prize=B,pr=0.0),  \n",
    "      LC(prize=C,pr=1.0)]\n",
    "\n",
    "def find_counter_indep(a):\n",
    "    display(Math(\"V_8(L_1)=V_8(\" + print_lottery(L1) + \")=\" + str(round(v8(L1),3))))\n",
    "    display(Math(\"V_8(L_2)=V_8(\" + print_lottery(L2) + \")=\" + str(round(v8(L2),3))))\n",
    "    display(Math(\"L_2  \\mathrel{P_{V_8}} L_1\"))\n",
    "    L3 = [LC(prize=L1, pr=a),  \n",
    "          LC(prize=L,pr=1-a)]\n",
    "\n",
    "    L4 = [LC(prize=L2, pr=a),  \n",
    "          LC(prize=L,pr=1-a)]\n",
    "\n",
    "    if a == 0.0: \n",
    "        print(\"The probability cannot be 0.\")\n",
    "        \n",
    "    if not v8(L4) > v8(L2): \n",
    "        print(\"This is a violation of the Indpendence Axiom: \")\n",
    "        display(Math(\"V_8([L_1: \" + str(round(a, 3)) + \", L_3: \" + str(round(1-a, 3)) + \"])=\" + str(round(v8(L3), 3))))\n",
    "        display(Math(\"V_8([L_2: \" + str(round(a, 3)) + \", L_3: \" + str(round(1-a, 3)) + \"])=\" + str(round(v8(L4), 3))))\n",
    "        display(Math( \"[L_2: \" + str(round(a,3)) + \", L_3: \" + str(round(1-a, 3)) + \"] \\mathrel{R_{V_8}}\" + \"[L_1: \" + str(round(a, 3)) + \", L_3: \" + str(round(1-a, 3)) + \"]\" ))\n",
    "    else: \n",
    "        print(\"This is not a violation of the Independence Axiom\")\n",
    "        display(Math(\"V_8([L_1: \" + str(round(a, 3)) + \", L_3: \" + str(round(1-a, 3)) + \"])=\" + str(v8(L3))))\n",
    "        display(Math(\"V_8([L_2: \" +str(round(a, 3)) + \", L_3: \" + str(round(1-a, 3)) + \"])=\" + str(v8(L4))))\n",
    "        display(Math(\"[L_2: \" + str(round(a, 3)) + \", L_3: \" + str(round(1-a, 3)) + \"] \\succ_{V_8}\" + \"[L_1: \" + str(round(a, 3)) + \", L_3: \" + str(round(1-a, 3)) + \"]\"))\n",
    "        \n",
    "        \n",
    "print(\"Consider the lotteries: \")\n",
    "\n",
    "display(Math(\"L_1 = \" + print_lottery(L1) ))\n",
    "display(Math(\"L_2 = \" + print_lottery(L2) ))\n",
    "\n",
    "display(Math(\"L_3 = \" + print_lottery(L) ))\n",
    "#display(Math(\"L_2 = \" + print_lottery(L2) ))\n",
    "\n",
    "print(\"Find a probability that illustrates a violation of the Independence Axiom\")\n",
    "\n",
    "interact(find_counter_indep, \n",
    "         a=widgets.FloatSlider(min=0, max=1.0, value=1.0, step=0.01, description=\"$p$=\"));"
   ]
  },
  {
   "cell_type": "markdown",
   "metadata": {},
   "source": [
    "#### $R_{V_8}$ violations the Continuity Axiom\n",
    "\n",
    "To show that $R_{V_8}$ violates the Continuity Axiom, we must find three lotteries $L_1$, $L_2$, $L_3$ and a  such that $L_1\\mathrel{P_{V_8}} L_2\\mathrel{P_{V_8}} L_3$ but there is no $p\\in (0,1)$ such that  $L_2\\mathrel{I_{V_8}} [L_1:p, L_3:(1-p)]$.\n",
    "\n",
    "To illustrate, let $L_1=[a:0.5, c:0.5]$, $L_2=[b:1]$ and $L_3=[c:1]$.   We have $L_1\\mathrel{P_{V_8}}L_2\\mathrel{P_{V_8}}L_3$, and note in th graph below that for $p=0.8$, $L_2\\mathrel{I_{V_8}} [L_1:p, L_3:(1-p)]$.  \n"
   ]
  },
  {
   "cell_type": "code",
   "execution_count": 6,
   "metadata": {
    "jupyter": {
     "source_hidden": true
    },
    "tags": [
     "hide_input"
    ]
   },
   "outputs": [
    {
     "data": {
      "image/png": "[encoded data removed]",
      "text/plain": [
       "<Figure size 648x432 with 1 Axes>"
      ]
     },
     "metadata": {
      "filenames": {
       "image/png": "/Users/epacuit/Dropbox/teaching/ppe-notes2/_build/jupyter_execute/decision-theory/vnm_12_0.png"
      }
     },
     "output_type": "display_data"
    }
   ],
   "source": [
    "xs = np.arange(0.0, 1.0, 0.001)\n",
    "\n",
    "L2 = [LC(prize=A, pr=0.0),  \n",
    "      LC(prize=B, pr=1.0),  \n",
    "      LC(prize=C, pr=0.0)]\n",
    "\n",
    "L1 = [LC(prize=A, pr=0.5),  \n",
    "      LC(prize=B, pr=0.0),  \n",
    "      LC(prize=C, pr=0.5)]\n",
    "\n",
    "L3 = [LC(prize=A, pr=0.0),  \n",
    "      LC(prize=B, pr=0.0),  \n",
    "      LC(prize=C, pr=1.0)]\n",
    "\n",
    "\n",
    "ys = [v8([LC(prize=L1, pr=p), LC(prize=L3, pr=(1-p))]) for p in xs] \n",
    "\n",
    "\n",
    "#ys_EU = [eu([LC(prize=L1, pr=p), LC(prize=L3, pr=(1-p))]) for p in xs] \n",
    "fig, ax = plt.subplots(figsize=(9,6))\n",
    "ax.plot(xs, ys, lw=3, label=\"$V_8([L1:p, L3:1-p])$\")\n",
    "#ax.plot(xs, ys_EU, \"--\", alpha=0.6, lw=2, label=\"$EU([L1:p, L3:1-p])$\")\n",
    "\n",
    "ax.plot([0,1], [v8(L1), v8(L1)], label=\"L1: $V_8({})$\".format(print_lottery(L1)))\n",
    "ax.plot([0,1], [v8(L2), v8(L2)], label=\"L2: $V_8({})$\".format(print_lottery(L2)))\n",
    "ax.plot([0,1], [v8(L3), v8(L3)], label=\"L3: $V_8({})$\".format(print_lottery(L3)))\n",
    "\n",
    "ax.set(xlabel='probabilities', ylabel='value',\n",
    "       title=' ')\n",
    "plt.legend(bbox_to_anchor=(1.05, 1), loc='upper left', borderaxespad=0.)\n",
    "\n",
    "plt.show()"
   ]
  },
  {
   "cell_type": "markdown",
   "metadata": {},
   "source": [
    "For the above lotteries:  $L_1=[a:0.5, c:0.5]$  and $L_3=[c:1]$, find a lottery $L_2$ such that: \n",
    "\n",
    "1. $L_1\\mathrel{P_{V_8}} L_2\\mathrel{P_{V_8}} L_3$\n",
    "2. There is no $p$ such that  $L_2\\mathrel{I_{V_8}} [L_1:p, L_3:(1-p)]$.  \n"
   ]
  },
  {
   "cell_type": "code",
   "execution_count": 7,
   "metadata": {
    "jupyter": {
     "source_hidden": true
    },
    "tags": [
     "hide_input",
     "hide_output"
    ]
   },
   "outputs": [
    {
     "data": {
      "application/vnd.jupyter.widget-view+json": {
       "model_id": "62d3e17643174ade930fbd14fe820808",
       "version_major": 2,
       "version_minor": 0
      },
      "text/plain": [
       "interactive(children=(FloatSlider(value=0.0, description='$p(a)=$', max=1.0, step=0.01), FloatSlider(value=0.0…"
      ]
     },
     "metadata": {},
     "output_type": "display_data"
    },
    {
     "name": "stdout",
     "output_type": "stream",
     "text": [
      "\n"
     ]
    }
   ],
   "source": [
    "\n",
    "def counter_example_continuity(p1,p2,p3):\n",
    "    \n",
    "    xs = np.arange(0.0, 1.0, 0.001)\n",
    "\n",
    "    if math.fabs((p1+p2+p3) - 1) > 0.000000001: \n",
    "        print(f\"Not a probability: {p1}, {p2}, {p3}\")\n",
    "    else:\n",
    "        L1 = [LC(prize=A, pr=0.5),  \n",
    "              LC(prize=B, pr=0.0),  \n",
    "              LC(prize=C, pr=0.5)]\n",
    "\n",
    "        L2 = [LC(prize=A, pr=p1),  \n",
    "              LC(prize=B, pr=p2),  \n",
    "              LC(prize=C, pr=p3)]\n",
    "\n",
    "        L3 = [LC(prize=A, pr=0.0),  \n",
    "              LC(prize=B, pr=0.0),  \n",
    "              LC(prize=C, pr=1.0)]\n",
    "\n",
    "\n",
    "        if v8(L1) > v8(L2) and v8(L2)> v8(L3):\n",
    "            ys = [v8([LC(prize=L1, pr=p), LC(prize=L3, pr=(1-p))]) for p in xs] \n",
    "\n",
    "\n",
    "            fig, ax = plt.subplots(figsize=(9,6))\n",
    "            ax.plot(xs, ys, lw=3, label=\"$V_8([L1:p, L3:1-p])$\")\n",
    "\n",
    "            ax.plot([0,1], [v8(L1), v8(L1)], label=\"L1: $V_8({})$\".format(print_lottery(L1)))\n",
    "            ax.plot([0,1], [v8(L2), v8(L2)], label=\"L2: $V_8({})$\".format(print_lottery(L2)))\n",
    "            ax.plot([0,1], [v8(L3), v8(L3)], label=\"L3: $V_8({})$\".format(print_lottery(L3)))\n",
    "\n",
    "            ax.set(xlabel='probabilities', ylabel='value',\n",
    "                   title=' ')\n",
    "            plt.legend(bbox_to_anchor=(1.05, 1), loc='upper left', borderaxespad=0.)\n",
    "\n",
    "            plt.show()\n",
    "        else: \n",
    "            if not v8(L1) > v8(L2):\n",
    "                display(Math(\"L_1 = \" + print_lottery(L1)))\n",
    "                display(Math(\"L_2 = \" + print_lottery(L2)))\n",
    "\n",
    "                display(Math(\"V_8(L_1) = \" + str(round(v8(L1), 3))))\n",
    "                display(Math(\"V_8(L_2) = \" + str(round(v8(L2), 3))))\n",
    "                display(Math(\"L_2\\mathrel{R_{V_8}} L_1\"))\n",
    "                \n",
    "            if not v8(L2)> v8(L3):\n",
    "                display(Math(\"L_2 = \" + print_lottery(L2)))\n",
    "                display(Math(\"L_3 = \" + print_lottery(L3)))\n",
    "                display(Math(\"V_8(L_2) = \" + str(round(v8(L2), 3))))\n",
    "                display(Math(\"V_8(L_3) = \" + str(round(v8(L3), 3))))                \n",
    "                display(Math(\"L_3\\mathrel{R_{V_8}} L_2\"))\n",
    "    \n",
    "interact_manual(counter_example_continuity, \n",
    "                p1=widgets.FloatSlider(min=0.0, max=1.0, value=0.0, step=0.01, description=\"$p(a)=$\"),\n",
    "                p2=widgets.FloatSlider(min=0.0, max=1.0, value=0.0, step=0.01, description=\"$p(b)=$\"), \n",
    "                p3=widgets.FloatSlider(min=0.0, max=1.0, value=0.0, step=0.01, description=\"$p(c)=$\"))\n",
    "\n",
    "print()"
   ]
  },
  {
   "cell_type": "code",
   "execution_count": null,
   "metadata": {},
   "outputs": [],
   "source": []
  },
  {
   "cell_type": "code",
   "execution_count": null,
   "metadata": {},
   "outputs": [],
   "source": []
  }
 ],
 "metadata": {
  "@webio": {
   "lastCommId": null,
   "lastKernelId": null
  },
  "celltoolbar": "Tags",
  "kernelspec": {
   "display_name": "Python 3",
   "language": "python",
   "name": "python3"
  },
  "language_info": {
   "codemirror_mode": {
    "name": "ipython",
    "version": 3
   },
   "file_extension": ".py",
   "mimetype": "text/x-python",
   "name": "python",
   "nbconvert_exporter": "python",
   "pygments_lexer": "ipython3",
   "version": "3.8.5"
  },
  "varInspector": {
   "cols": {
    "lenName": 16,
    "lenType": 16,
    "lenVar": 40
   },
   "kernels_config": {
    "python": {
     "delete_cmd_postfix": "",
     "delete_cmd_prefix": "del ",
     "library": "var_list.py",
     "varRefreshCmd": "print(var_dic_list())"
    },
    "r": {
     "delete_cmd_postfix": ") ",
     "delete_cmd_prefix": "rm(",
     "library": "var_list.r",
     "varRefreshCmd": "cat(var_dic_list()) "
    }
   },
   "types_to_exclude": [
    "module",
    "function",
    "builtin_function_or_method",
    "instance",
    "_Feature"
   ],
   "window_display": false
  },
  "widgets": {
   "application/vnd.jupyter.widget-state+json": {
    "state": {
     "09b7a8a26db747c5a5dcb594fc8e3dad": {
      "model_module": "@jupyter-widgets/base",
      "model_module_version": "1.2.0",
      "model_name": "LayoutModel",
      "state": {
       "_model_module": "@jupyter-widgets/base",
       "_model_module_version": "1.2.0",
       "_model_name": "LayoutModel",
       "_view_count": null,
       "_view_module": "@jupyter-widgets/base",
       "_view_module_version": "1.2.0",
       "_view_name": "LayoutView",
       "align_content": null,
       "align_items": null,
       "align_self": null,
       "border": null,
       "bottom": null,
       "display": null,
       "flex": null,
       "flex_flow": null,
       "grid_area": null,
       "grid_auto_columns": null,
       "grid_auto_flow": null,
       "grid_auto_rows": null,
       "grid_column": null,
       "grid_gap": null,
       "grid_row": null,
       "grid_template_areas": null,
       "grid_template_columns": null,
       "grid_template_rows": null,
       "height": null,
       "justify_content": null,
       "justify_items": null,
       "left": null,
       "margin": null,
       "max_height": null,
       "max_width": null,
       "min_height": null,
       "min_width": null,
       "object_fit": null,
       "object_position": null,
       "order": null,
       "overflow": null,
       "overflow_x": null,
       "overflow_y": null,
       "padding": null,
       "right": null,
       "top": null,
       "visibility": null,
       "width": null
      }
     },
     "0ddab63ed6214390a28daf63a26d5860": {
      "model_module": "@jupyter-widgets/base",
      "model_module_version": "1.2.0",
      "model_name": "LayoutModel",
      "state": {
       "_model_module": "@jupyter-widgets/base",
       "_model_module_version": "1.2.0",
       "_model_name": "LayoutModel",
       "_view_count": null,
       "_view_module": "@jupyter-widgets/base",
       "_view_module_version": "1.2.0",
       "_view_name": "LayoutView",
       "align_content": null,
       "align_items": null,
       "align_self": null,
       "border": null,
       "bottom": null,
       "display": null,
       "flex": null,
       "flex_flow": null,
       "grid_area": null,
       "grid_auto_columns": null,
       "grid_auto_flow": null,
       "grid_auto_rows": null,
       "grid_column": null,
       "grid_gap": null,
       "grid_row": null,
       "grid_template_areas": null,
       "grid_template_columns": null,
       "grid_template_rows": null,
       "height": null,
       "justify_content": null,
       "justify_items": null,
       "left": null,
       "margin": null,
       "max_height": null,
       "max_width": null,
       "min_height": null,
       "min_width": null,
       "object_fit": null,
       "object_position": null,
       "order": null,
       "overflow": null,
       "overflow_x": null,
       "overflow_y": null,
       "padding": null,
       "right": null,
       "top": null,
       "visibility": null,
       "width": null
      }
     },
     "0f19ee1dd9a64e59bb6fb9ef614b51f6": {
      "model_module": "@jupyter-widgets/controls",
      "model_module_version": "1.5.0",
      "model_name": "SliderStyleModel",
      "state": {
       "_model_module": "@jupyter-widgets/controls",
       "_model_module_version": "1.5.0",
       "_model_name": "SliderStyleModel",
       "_view_count": null,
       "_view_module": "@jupyter-widgets/base",
       "_view_module_version": "1.2.0",
       "_view_name": "StyleView",
       "description_width": "",
       "handle_color": null
      }
     },
     "137150d6cab54aadab9867aba373e785": {
      "model_module": "@jupyter-widgets/base",
      "model_module_version": "1.2.0",
      "model_name": "LayoutModel",
      "state": {
       "_model_module": "@jupyter-widgets/base",
       "_model_module_version": "1.2.0",
       "_model_name": "LayoutModel",
       "_view_count": null,
       "_view_module": "@jupyter-widgets/base",
       "_view_module_version": "1.2.0",
       "_view_name": "LayoutView",
       "align_content": null,
       "align_items": null,
       "align_self": null,
       "border": null,
       "bottom": null,
       "display": null,
       "flex": null,
       "flex_flow": null,
       "grid_area": null,
       "grid_auto_columns": null,
       "grid_auto_flow": null,
       "grid_auto_rows": null,
       "grid_column": null,
       "grid_gap": null,
       "grid_row": null,
       "grid_template_areas": null,
       "grid_template_columns": null,
       "grid_template_rows": null,
       "height": null,
       "justify_content": null,
       "justify_items": null,
       "left": null,
       "margin": null,
       "max_height": null,
       "max_width": null,
       "min_height": null,
       "min_width": null,
       "object_fit": null,
       "object_position": null,
       "order": null,
       "overflow": null,
       "overflow_x": null,
       "overflow_y": null,
       "padding": null,
       "right": null,
       "top": null,
       "visibility": null,
       "width": null
      }
     },
     "19c6a57f088942158399b315fa420c93": {
      "model_module": "@jupyter-widgets/controls",
      "model_module_version": "1.5.0",
      "model_name": "VBoxModel",
      "state": {
       "_dom_classes": [
        "widget-interact"
       ],
       "_model_module": "@jupyter-widgets/controls",
       "_model_module_version": "1.5.0",
       "_model_name": "VBoxModel",
       "_view_count": null,
       "_view_module": "@jupyter-widgets/controls",
       "_view_module_version": "1.5.0",
       "_view_name": "VBoxView",
       "box_style": "",
       "children": [
        "IPY_MODEL_f3a838aefb3044c98eb6b91f3d3e1cdd",
        "IPY_MODEL_bb39818e55ba423399ed4200c4a47587"
       ],
       "layout": "IPY_MODEL_ffa54dbc5fa8419c843f0f3e28f15bd9"
      }
     },
     "200a271611db47a8a791a5bf77c49e5b": {
      "model_module": "@jupyter-widgets/base",
      "model_module_version": "1.2.0",
      "model_name": "LayoutModel",
      "state": {
       "_model_module": "@jupyter-widgets/base",
       "_model_module_version": "1.2.0",
       "_model_name": "LayoutModel",
       "_view_count": null,
       "_view_module": "@jupyter-widgets/base",
       "_view_module_version": "1.2.0",
       "_view_name": "LayoutView",
       "align_content": null,
       "align_items": null,
       "align_self": null,
       "border": null,
       "bottom": null,
       "display": null,
       "flex": null,
       "flex_flow": null,
       "grid_area": null,
       "grid_auto_columns": null,
       "grid_auto_flow": null,
       "grid_auto_rows": null,
       "grid_column": null,
       "grid_gap": null,
       "grid_row": null,
       "grid_template_areas": null,
       "grid_template_columns": null,
       "grid_template_rows": null,
       "height": null,
       "justify_content": null,
       "justify_items": null,
       "left": null,
       "margin": null,
       "max_height": null,
       "max_width": null,
       "min_height": null,
       "min_width": null,
       "object_fit": null,
       "object_position": null,
       "order": null,
       "overflow": null,
       "overflow_x": null,
       "overflow_y": null,
       "padding": null,
       "right": null,
       "top": null,
       "visibility": null,
       "width": null
      }
     },
     "24c5d373890a48999769e2e2dc9daccd": {
      "model_module": "@jupyter-widgets/controls",
      "model_module_version": "1.5.0",
      "model_name": "SliderStyleModel",
      "state": {
       "_model_module": "@jupyter-widgets/controls",
       "_model_module_version": "1.5.0",
       "_model_name": "SliderStyleModel",
       "_view_count": null,
       "_view_module": "@jupyter-widgets/base",
       "_view_module_version": "1.2.0",
       "_view_name": "StyleView",
       "description_width": "",
       "handle_color": null
      }
     },
     "2988e7a473004b079c2bbb99d13ce243": {
      "model_module": "@jupyter-widgets/base",
      "model_module_version": "1.2.0",
      "model_name": "LayoutModel",
      "state": {
       "_model_module": "@jupyter-widgets/base",
       "_model_module_version": "1.2.0",
       "_model_name": "LayoutModel",
       "_view_count": null,
       "_view_module": "@jupyter-widgets/base",
       "_view_module_version": "1.2.0",
       "_view_name": "LayoutView",
       "align_content": null,
       "align_items": null,
       "align_self": null,
       "border": null,
       "bottom": null,
       "display": null,
       "flex": null,
       "flex_flow": null,
       "grid_area": null,
       "grid_auto_columns": null,
       "grid_auto_flow": null,
       "grid_auto_rows": null,
       "grid_column": null,
       "grid_gap": null,
       "grid_row": null,
       "grid_template_areas": null,
       "grid_template_columns": null,
       "grid_template_rows": null,
       "height": null,
       "justify_content": null,
       "justify_items": null,
       "left": null,
       "margin": null,
       "max_height": null,
       "max_width": null,
       "min_height": null,
       "min_width": null,
       "object_fit": null,
       "object_position": null,
       "order": null,
       "overflow": null,
       "overflow_x": null,
       "overflow_y": null,
       "padding": null,
       "right": null,
       "top": null,
       "visibility": null,
       "width": null
      }
     },
     "3ea0415b61364e3b85639631d400c7fd": {
      "model_module": "@jupyter-widgets/base",
      "model_module_version": "1.2.0",
      "model_name": "LayoutModel",
      "state": {
       "_model_module": "@jupyter-widgets/base",
       "_model_module_version": "1.2.0",
       "_model_name": "LayoutModel",
       "_view_count": null,
       "_view_module": "@jupyter-widgets/base",
       "_view_module_version": "1.2.0",
       "_view_name": "LayoutView",
       "align_content": null,
       "align_items": null,
       "align_self": null,
       "border": null,
       "bottom": null,
       "display": null,
       "flex": null,
       "flex_flow": null,
       "grid_area": null,
       "grid_auto_columns": null,
       "grid_auto_flow": null,
       "grid_auto_rows": null,
       "grid_column": null,
       "grid_gap": null,
       "grid_row": null,
       "grid_template_areas": null,
       "grid_template_columns": null,
       "grid_template_rows": null,
       "height": null,
       "justify_content": null,
       "justify_items": null,
       "left": null,
       "margin": null,
       "max_height": null,
       "max_width": null,
       "min_height": null,
       "min_width": null,
       "object_fit": null,
       "object_position": null,
       "order": null,
       "overflow": null,
       "overflow_x": null,
       "overflow_y": null,
       "padding": null,
       "right": null,
       "top": null,
       "visibility": null,
       "width": null
      }
     },
     "42e7d8aada244b03a67f9c1065766d1e": {
      "model_module": "@jupyter-widgets/controls",
      "model_module_version": "1.5.0",
      "model_name": "FloatSliderModel",
      "state": {
       "_dom_classes": [],
       "_model_module": "@jupyter-widgets/controls",
       "_model_module_version": "1.5.0",
       "_model_name": "FloatSliderModel",
       "_view_count": null,
       "_view_module": "@jupyter-widgets/controls",
       "_view_module_version": "1.5.0",
       "_view_name": "FloatSliderView",
       "continuous_update": true,
       "description": "$p(c)=$",
       "description_tooltip": null,
       "disabled": false,
       "layout": "IPY_MODEL_bbb0f5ae0eac4d5db0afd5156fed3c63",
       "max": 1.0,
       "min": 0.0,
       "orientation": "horizontal",
       "readout": true,
       "readout_format": ".2f",
       "step": 0.01,
       "style": "IPY_MODEL_782b066b466844c98a4a830c8b806cc8",
       "value": 0.0
      }
     },
     "43bcb28c447f40118576f811ce3cda84": {
      "model_module": "@jupyter-widgets/base",
      "model_module_version": "1.2.0",
      "model_name": "LayoutModel",
      "state": {
       "_model_module": "@jupyter-widgets/base",
       "_model_module_version": "1.2.0",
       "_model_name": "LayoutModel",
       "_view_count": null,
       "_view_module": "@jupyter-widgets/base",
       "_view_module_version": "1.2.0",
       "_view_name": "LayoutView",
       "align_content": null,
       "align_items": null,
       "align_self": null,
       "border": null,
       "bottom": null,
       "display": null,
       "flex": null,
       "flex_flow": null,
       "grid_area": null,
       "grid_auto_columns": null,
       "grid_auto_flow": null,
       "grid_auto_rows": null,
       "grid_column": null,
       "grid_gap": null,
       "grid_row": null,
       "grid_template_areas": null,
       "grid_template_columns": null,
       "grid_template_rows": null,
       "height": null,
       "justify_content": null,
       "justify_items": null,
       "left": null,
       "margin": null,
       "max_height": null,
       "max_width": null,
       "min_height": null,
       "min_width": null,
       "object_fit": null,
       "object_position": null,
       "order": null,
       "overflow": null,
       "overflow_x": null,
       "overflow_y": null,
       "padding": null,
       "right": null,
       "top": null,
       "visibility": null,
       "width": null
      }
     },
     "4ae150be894c4c46bd0b065517cb6e53": {
      "model_module": "@jupyter-widgets/controls",
      "model_module_version": "1.5.0",
      "model_name": "SliderStyleModel",
      "state": {
       "_model_module": "@jupyter-widgets/controls",
       "_model_module_version": "1.5.0",
       "_model_name": "SliderStyleModel",
       "_view_count": null,
       "_view_module": "@jupyter-widgets/base",
       "_view_module_version": "1.2.0",
       "_view_name": "StyleView",
       "description_width": "",
       "handle_color": null
      }
     },
     "4c9ac37b18624493a609e91665052110": {
      "model_module": "@jupyter-widgets/output",
      "model_module_version": "1.0.0",
      "model_name": "OutputModel",
      "state": {
       "_dom_classes": [],
       "_model_module": "@jupyter-widgets/output",
       "_model_module_version": "1.0.0",
       "_model_name": "OutputModel",
       "_view_count": null,
       "_view_module": "@jupyter-widgets/output",
       "_view_module_version": "1.0.0",
       "_view_name": "OutputView",
       "layout": "IPY_MODEL_eae5fca67c684b2aae98552f34b41049",
       "msg_id": "",
       "outputs": []
      }
     },
     "54e40ddad25a4a13a92840d66d67fd32": {
      "model_module": "@jupyter-widgets/controls",
      "model_module_version": "1.5.0",
      "model_name": "FloatSliderModel",
      "state": {
       "_dom_classes": [],
       "_model_module": "@jupyter-widgets/controls",
       "_model_module_version": "1.5.0",
       "_model_name": "FloatSliderModel",
       "_view_count": null,
       "_view_module": "@jupyter-widgets/controls",
       "_view_module_version": "1.5.0",
       "_view_name": "FloatSliderView",
       "continuous_update": true,
       "description": "$p(a)=$",
       "description_tooltip": null,
       "disabled": false,
       "layout": "IPY_MODEL_bba8fc8e847f4284b3a46c64642ea65b",
       "max": 1.0,
       "min": 0.0,
       "orientation": "horizontal",
       "readout": true,
       "readout_format": ".2f",
       "step": 0.01,
       "style": "IPY_MODEL_0f19ee1dd9a64e59bb6fb9ef614b51f6",
       "value": 0.0
      }
     },
     "557fce8fd009469f8179e314b81c6118": {
      "model_module": "@jupyter-widgets/controls",
      "model_module_version": "1.5.0",
      "model_name": "ButtonModel",
      "state": {
       "_dom_classes": [],
       "_model_module": "@jupyter-widgets/controls",
       "_model_module_version": "1.5.0",
       "_model_name": "ButtonModel",
       "_view_count": null,
       "_view_module": "@jupyter-widgets/controls",
       "_view_module_version": "1.5.0",
       "_view_name": "ButtonView",
       "button_style": "",
       "description": "Run Interact",
       "disabled": false,
       "icon": "",
       "layout": "IPY_MODEL_d840ad91ae7544f783a39660d6a3512d",
       "style": "IPY_MODEL_75e74be87ce44a29a5a54d18c255f15c",
       "tooltip": ""
      }
     },
     "56fe9872a6fd4d0fb9bc4460a049b955": {
      "model_module": "@jupyter-widgets/base",
      "model_module_version": "1.2.0",
      "model_name": "LayoutModel",
      "state": {
       "_model_module": "@jupyter-widgets/base",
       "_model_module_version": "1.2.0",
       "_model_name": "LayoutModel",
       "_view_count": null,
       "_view_module": "@jupyter-widgets/base",
       "_view_module_version": "1.2.0",
       "_view_name": "LayoutView",
       "align_content": null,
       "align_items": null,
       "align_self": null,
       "border": null,
       "bottom": null,
       "display": null,
       "flex": null,
       "flex_flow": null,
       "grid_area": null,
       "grid_auto_columns": null,
       "grid_auto_flow": null,
       "grid_auto_rows": null,
       "grid_column": null,
       "grid_gap": null,
       "grid_row": null,
       "grid_template_areas": null,
       "grid_template_columns": null,
       "grid_template_rows": null,
       "height": null,
       "justify_content": null,
       "justify_items": null,
       "left": null,
       "margin": null,
       "max_height": null,
       "max_width": null,
       "min_height": null,
       "min_width": null,
       "object_fit": null,
       "object_position": null,
       "order": null,
       "overflow": null,
       "overflow_x": null,
       "overflow_y": null,
       "padding": null,
       "right": null,
       "top": null,
       "visibility": null,
       "width": null
      }
     },
     "5c3f95fe562f4cef8f97a56703cb3d27": {
      "model_module": "@jupyter-widgets/controls",
      "model_module_version": "1.5.0",
      "model_name": "SliderStyleModel",
      "state": {
       "_model_module": "@jupyter-widgets/controls",
       "_model_module_version": "1.5.0",
       "_model_name": "SliderStyleModel",
       "_view_count": null,
       "_view_module": "@jupyter-widgets/base",
       "_view_module_version": "1.2.0",
       "_view_name": "StyleView",
       "description_width": "",
       "handle_color": null
      }
     },
     "62d3e17643174ade930fbd14fe820808": {
      "model_module": "@jupyter-widgets/controls",
      "model_module_version": "1.5.0",
      "model_name": "VBoxModel",
      "state": {
       "_dom_classes": [
        "widget-interact"
       ],
       "_model_module": "@jupyter-widgets/controls",
       "_model_module_version": "1.5.0",
       "_model_name": "VBoxModel",
       "_view_count": null,
       "_view_module": "@jupyter-widgets/controls",
       "_view_module_version": "1.5.0",
       "_view_name": "VBoxView",
       "box_style": "",
       "children": [
        "IPY_MODEL_54e40ddad25a4a13a92840d66d67fd32",
        "IPY_MODEL_fd3ca709c7474d0ba00e8694fed05a98",
        "IPY_MODEL_42e7d8aada244b03a67f9c1065766d1e",
        "IPY_MODEL_b23f3576684d44b8ba2e1295961c0a98",
        "IPY_MODEL_4c9ac37b18624493a609e91665052110"
       ],
       "layout": "IPY_MODEL_43bcb28c447f40118576f811ce3cda84"
      }
     },
     "69b4a499f44a43048ffe0d90aa5ba4b0": {
      "model_module": "@jupyter-widgets/base",
      "model_module_version": "1.2.0",
      "model_name": "LayoutModel",
      "state": {
       "_model_module": "@jupyter-widgets/base",
       "_model_module_version": "1.2.0",
       "_model_name": "LayoutModel",
       "_view_count": null,
       "_view_module": "@jupyter-widgets/base",
       "_view_module_version": "1.2.0",
       "_view_name": "LayoutView",
       "align_content": null,
       "align_items": null,
       "align_self": null,
       "border": null,
       "bottom": null,
       "display": null,
       "flex": null,
       "flex_flow": null,
       "grid_area": null,
       "grid_auto_columns": null,
       "grid_auto_flow": null,
       "grid_auto_rows": null,
       "grid_column": null,
       "grid_gap": null,
       "grid_row": null,
       "grid_template_areas": null,
       "grid_template_columns": null,
       "grid_template_rows": null,
       "height": null,
       "justify_content": null,
       "justify_items": null,
       "left": null,
       "margin": null,
       "max_height": null,
       "max_width": null,
       "min_height": null,
       "min_width": null,
       "object_fit": null,
       "object_position": null,
       "order": null,
       "overflow": null,
       "overflow_x": null,
       "overflow_y": null,
       "padding": null,
       "right": null,
       "top": null,
       "visibility": null,
       "width": null
      }
     },
     "75e74be87ce44a29a5a54d18c255f15c": {
      "model_module": "@jupyter-widgets/controls",
      "model_module_version": "1.5.0",
      "model_name": "ButtonStyleModel",
      "state": {
       "_model_module": "@jupyter-widgets/controls",
       "_model_module_version": "1.5.0",
       "_model_name": "ButtonStyleModel",
       "_view_count": null,
       "_view_module": "@jupyter-widgets/base",
       "_view_module_version": "1.2.0",
       "_view_name": "StyleView",
       "button_color": null,
       "font_weight": ""
      }
     },
     "782b066b466844c98a4a830c8b806cc8": {
      "model_module": "@jupyter-widgets/controls",
      "model_module_version": "1.5.0",
      "model_name": "SliderStyleModel",
      "state": {
       "_model_module": "@jupyter-widgets/controls",
       "_model_module_version": "1.5.0",
       "_model_name": "SliderStyleModel",
       "_view_count": null,
       "_view_module": "@jupyter-widgets/base",
       "_view_module_version": "1.2.0",
       "_view_name": "StyleView",
       "description_width": "",
       "handle_color": null
      }
     },
     "83a3f6671d54441e9654d99b3b0d6cc8": {
      "model_module": "@jupyter-widgets/controls",
      "model_module_version": "1.5.0",
      "model_name": "FloatSliderModel",
      "state": {
       "_dom_classes": [],
       "_model_module": "@jupyter-widgets/controls",
       "_model_module_version": "1.5.0",
       "_model_name": "FloatSliderModel",
       "_view_count": null,
       "_view_module": "@jupyter-widgets/controls",
       "_view_module_version": "1.5.0",
       "_view_name": "FloatSliderView",
       "continuous_update": true,
       "description": "$p(a)=$",
       "description_tooltip": null,
       "disabled": false,
       "layout": "IPY_MODEL_137150d6cab54aadab9867aba373e785",
       "max": 1.0,
       "min": 0.0,
       "orientation": "horizontal",
       "readout": true,
       "readout_format": ".2f",
       "step": 0.01,
       "style": "IPY_MODEL_e00c0de16663408d907dcb7234eb04f1",
       "value": 0.0
      }
     },
     "8def7cf04a5e4eff8b9aabc324a78cfe": {
      "model_module": "@jupyter-widgets/controls",
      "model_module_version": "1.5.0",
      "model_name": "VBoxModel",
      "state": {
       "_dom_classes": [
        "widget-interact"
       ],
       "_model_module": "@jupyter-widgets/controls",
       "_model_module_version": "1.5.0",
       "_model_name": "VBoxModel",
       "_view_count": null,
       "_view_module": "@jupyter-widgets/controls",
       "_view_module_version": "1.5.0",
       "_view_name": "VBoxView",
       "box_style": "",
       "children": [
        "IPY_MODEL_83a3f6671d54441e9654d99b3b0d6cc8",
        "IPY_MODEL_ebda0b089c0f4c989ef0ab28c6701ca0",
        "IPY_MODEL_b2b90483820c4caa83b349b886eb48ab",
        "IPY_MODEL_557fce8fd009469f8179e314b81c6118",
        "IPY_MODEL_c3c9f67da1da4d9c97b6c276e1bb100d"
       ],
       "layout": "IPY_MODEL_0ddab63ed6214390a28daf63a26d5860"
      }
     },
     "b23f3576684d44b8ba2e1295961c0a98": {
      "model_module": "@jupyter-widgets/controls",
      "model_module_version": "1.5.0",
      "model_name": "ButtonModel",
      "state": {
       "_dom_classes": [],
       "_model_module": "@jupyter-widgets/controls",
       "_model_module_version": "1.5.0",
       "_model_name": "ButtonModel",
       "_view_count": null,
       "_view_module": "@jupyter-widgets/controls",
       "_view_module_version": "1.5.0",
       "_view_name": "ButtonView",
       "button_style": "",
       "description": "Run Interact",
       "disabled": false,
       "icon": "",
       "layout": "IPY_MODEL_2988e7a473004b079c2bbb99d13ce243",
       "style": "IPY_MODEL_b5aa815e4de54e4aab09d40426b572be",
       "tooltip": ""
      }
     },
     "b2b90483820c4caa83b349b886eb48ab": {
      "model_module": "@jupyter-widgets/controls",
      "model_module_version": "1.5.0",
      "model_name": "FloatSliderModel",
      "state": {
       "_dom_classes": [],
       "_model_module": "@jupyter-widgets/controls",
       "_model_module_version": "1.5.0",
       "_model_name": "FloatSliderModel",
       "_view_count": null,
       "_view_module": "@jupyter-widgets/controls",
       "_view_module_version": "1.5.0",
       "_view_name": "FloatSliderView",
       "continuous_update": true,
       "description": "$p(c)=$",
       "description_tooltip": null,
       "disabled": false,
       "layout": "IPY_MODEL_e69d6da5fd2045f4848048a923a61379",
       "max": 1.0,
       "min": 0.0,
       "orientation": "horizontal",
       "readout": true,
       "readout_format": ".2f",
       "step": 0.01,
       "style": "IPY_MODEL_5c3f95fe562f4cef8f97a56703cb3d27",
       "value": 0.0
      }
     },
     "b5aa815e4de54e4aab09d40426b572be": {
      "model_module": "@jupyter-widgets/controls",
      "model_module_version": "1.5.0",
      "model_name": "ButtonStyleModel",
      "state": {
       "_model_module": "@jupyter-widgets/controls",
       "_model_module_version": "1.5.0",
       "_model_name": "ButtonStyleModel",
       "_view_count": null,
       "_view_module": "@jupyter-widgets/base",
       "_view_module_version": "1.2.0",
       "_view_name": "StyleView",
       "button_color": null,
       "font_weight": ""
      }
     },
     "bb39818e55ba423399ed4200c4a47587": {
      "model_module": "@jupyter-widgets/output",
      "model_module_version": "1.0.0",
      "model_name": "OutputModel",
      "state": {
       "_dom_classes": [],
       "_model_module": "@jupyter-widgets/output",
       "_model_module_version": "1.0.0",
       "_model_name": "OutputModel",
       "_view_count": null,
       "_view_module": "@jupyter-widgets/output",
       "_view_module_version": "1.0.0",
       "_view_name": "OutputView",
       "layout": "IPY_MODEL_56fe9872a6fd4d0fb9bc4460a049b955",
       "msg_id": "",
       "outputs": [
        {
         "data": {
          "text/latex": "$\\displaystyle V_8(L_1)=V_8([a: 0.1, b: 0.0, c: 0.9])=0.3$",
          "text/plain": "<IPython.core.display.Math object>"
         },
         "metadata": {},
         "output_type": "display_data"
        },
        {
         "data": {
          "text/latex": "$\\displaystyle V_8(L_2)=V_8([a: 0.0, b: 1.0, c: 0.0])=0.5$",
          "text/plain": "<IPython.core.display.Math object>"
         },
         "metadata": {},
         "output_type": "display_data"
        },
        {
         "data": {
          "text/latex": "$\\displaystyle L_2  \\mathrel{P_{V_8}} L_1$",
          "text/plain": "<IPython.core.display.Math object>"
         },
         "metadata": {},
         "output_type": "display_data"
        },
        {
         "name": "stdout",
         "output_type": "stream",
         "text": "This is not a violation of the Independence Axiom\n"
        },
        {
         "data": {
          "text/latex": "$\\displaystyle V_8([L_1: 1.0, L_3: 0.0])=0.2$",
          "text/plain": "<IPython.core.display.Math object>"
         },
         "metadata": {},
         "output_type": "display_data"
        },
        {
         "data": {
          "text/latex": "$\\displaystyle V_8([L_2: 1.0, L_3: 0.0])=0.7$",
          "text/plain": "<IPython.core.display.Math object>"
         },
         "metadata": {},
         "output_type": "display_data"
        },
        {
         "data": {
          "text/latex": "$\\displaystyle [L_2: 1.0, L_3: 0.0] \\succ_{V_8}[L_1: 1.0, L_3: 0.0]$",
          "text/plain": "<IPython.core.display.Math object>"
         },
         "metadata": {},
         "output_type": "display_data"
        }
       ]
      }
     },
     "bba8fc8e847f4284b3a46c64642ea65b": {
      "model_module": "@jupyter-widgets/base",
      "model_module_version": "1.2.0",
      "model_name": "LayoutModel",
      "state": {
       "_model_module": "@jupyter-widgets/base",
       "_model_module_version": "1.2.0",
       "_model_name": "LayoutModel",
       "_view_count": null,
       "_view_module": "@jupyter-widgets/base",
       "_view_module_version": "1.2.0",
       "_view_name": "LayoutView",
       "align_content": null,
       "align_items": null,
       "align_self": null,
       "border": null,
       "bottom": null,
       "display": null,
       "flex": null,
       "flex_flow": null,
       "grid_area": null,
       "grid_auto_columns": null,
       "grid_auto_flow": null,
       "grid_auto_rows": null,
       "grid_column": null,
       "grid_gap": null,
       "grid_row": null,
       "grid_template_areas": null,
       "grid_template_columns": null,
       "grid_template_rows": null,
       "height": null,
       "justify_content": null,
       "justify_items": null,
       "left": null,
       "margin": null,
       "max_height": null,
       "max_width": null,
       "min_height": null,
       "min_width": null,
       "object_fit": null,
       "object_position": null,
       "order": null,
       "overflow": null,
       "overflow_x": null,
       "overflow_y": null,
       "padding": null,
       "right": null,
       "top": null,
       "visibility": null,
       "width": null
      }
     },
     "bbb0f5ae0eac4d5db0afd5156fed3c63": {
      "model_module": "@jupyter-widgets/base",
      "model_module_version": "1.2.0",
      "model_name": "LayoutModel",
      "state": {
       "_model_module": "@jupyter-widgets/base",
       "_model_module_version": "1.2.0",
       "_model_name": "LayoutModel",
       "_view_count": null,
       "_view_module": "@jupyter-widgets/base",
       "_view_module_version": "1.2.0",
       "_view_name": "LayoutView",
       "align_content": null,
       "align_items": null,
       "align_self": null,
       "border": null,
       "bottom": null,
       "display": null,
       "flex": null,
       "flex_flow": null,
       "grid_area": null,
       "grid_auto_columns": null,
       "grid_auto_flow": null,
       "grid_auto_rows": null,
       "grid_column": null,
       "grid_gap": null,
       "grid_row": null,
       "grid_template_areas": null,
       "grid_template_columns": null,
       "grid_template_rows": null,
       "height": null,
       "justify_content": null,
       "justify_items": null,
       "left": null,
       "margin": null,
       "max_height": null,
       "max_width": null,
       "min_height": null,
       "min_width": null,
       "object_fit": null,
       "object_position": null,
       "order": null,
       "overflow": null,
       "overflow_x": null,
       "overflow_y": null,
       "padding": null,
       "right": null,
       "top": null,
       "visibility": null,
       "width": null
      }
     },
     "c2bebe2f62294e0cb5712942e440349e": {
      "model_module": "@jupyter-widgets/controls",
      "model_module_version": "1.5.0",
      "model_name": "SliderStyleModel",
      "state": {
       "_model_module": "@jupyter-widgets/controls",
       "_model_module_version": "1.5.0",
       "_model_name": "SliderStyleModel",
       "_view_count": null,
       "_view_module": "@jupyter-widgets/base",
       "_view_module_version": "1.2.0",
       "_view_name": "StyleView",
       "description_width": "",
       "handle_color": null
      }
     },
     "c3c9f67da1da4d9c97b6c276e1bb100d": {
      "model_module": "@jupyter-widgets/output",
      "model_module_version": "1.0.0",
      "model_name": "OutputModel",
      "state": {
       "_dom_classes": [],
       "_model_module": "@jupyter-widgets/output",
       "_model_module_version": "1.0.0",
       "_model_name": "OutputModel",
       "_view_count": null,
       "_view_module": "@jupyter-widgets/output",
       "_view_module_version": "1.0.0",
       "_view_name": "OutputView",
       "layout": "IPY_MODEL_69b4a499f44a43048ffe0d90aa5ba4b0",
       "msg_id": "",
       "outputs": []
      }
     },
     "d840ad91ae7544f783a39660d6a3512d": {
      "model_module": "@jupyter-widgets/base",
      "model_module_version": "1.2.0",
      "model_name": "LayoutModel",
      "state": {
       "_model_module": "@jupyter-widgets/base",
       "_model_module_version": "1.2.0",
       "_model_name": "LayoutModel",
       "_view_count": null,
       "_view_module": "@jupyter-widgets/base",
       "_view_module_version": "1.2.0",
       "_view_name": "LayoutView",
       "align_content": null,
       "align_items": null,
       "align_self": null,
       "border": null,
       "bottom": null,
       "display": null,
       "flex": null,
       "flex_flow": null,
       "grid_area": null,
       "grid_auto_columns": null,
       "grid_auto_flow": null,
       "grid_auto_rows": null,
       "grid_column": null,
       "grid_gap": null,
       "grid_row": null,
       "grid_template_areas": null,
       "grid_template_columns": null,
       "grid_template_rows": null,
       "height": null,
       "justify_content": null,
       "justify_items": null,
       "left": null,
       "margin": null,
       "max_height": null,
       "max_width": null,
       "min_height": null,
       "min_width": null,
       "object_fit": null,
       "object_position": null,
       "order": null,
       "overflow": null,
       "overflow_x": null,
       "overflow_y": null,
       "padding": null,
       "right": null,
       "top": null,
       "visibility": null,
       "width": null
      }
     },
     "e00c0de16663408d907dcb7234eb04f1": {
      "model_module": "@jupyter-widgets/controls",
      "model_module_version": "1.5.0",
      "model_name": "SliderStyleModel",
      "state": {
       "_model_module": "@jupyter-widgets/controls",
       "_model_module_version": "1.5.0",
       "_model_name": "SliderStyleModel",
       "_view_count": null,
       "_view_module": "@jupyter-widgets/base",
       "_view_module_version": "1.2.0",
       "_view_name": "StyleView",
       "description_width": "",
       "handle_color": null
      }
     },
     "e69d6da5fd2045f4848048a923a61379": {
      "model_module": "@jupyter-widgets/base",
      "model_module_version": "1.2.0",
      "model_name": "LayoutModel",
      "state": {
       "_model_module": "@jupyter-widgets/base",
       "_model_module_version": "1.2.0",
       "_model_name": "LayoutModel",
       "_view_count": null,
       "_view_module": "@jupyter-widgets/base",
       "_view_module_version": "1.2.0",
       "_view_name": "LayoutView",
       "align_content": null,
       "align_items": null,
       "align_self": null,
       "border": null,
       "bottom": null,
       "display": null,
       "flex": null,
       "flex_flow": null,
       "grid_area": null,
       "grid_auto_columns": null,
       "grid_auto_flow": null,
       "grid_auto_rows": null,
       "grid_column": null,
       "grid_gap": null,
       "grid_row": null,
       "grid_template_areas": null,
       "grid_template_columns": null,
       "grid_template_rows": null,
       "height": null,
       "justify_content": null,
       "justify_items": null,
       "left": null,
       "margin": null,
       "max_height": null,
       "max_width": null,
       "min_height": null,
       "min_width": null,
       "object_fit": null,
       "object_position": null,
       "order": null,
       "overflow": null,
       "overflow_x": null,
       "overflow_y": null,
       "padding": null,
       "right": null,
       "top": null,
       "visibility": null,
       "width": null
      }
     },
     "eae5fca67c684b2aae98552f34b41049": {
      "model_module": "@jupyter-widgets/base",
      "model_module_version": "1.2.0",
      "model_name": "LayoutModel",
      "state": {
       "_model_module": "@jupyter-widgets/base",
       "_model_module_version": "1.2.0",
       "_model_name": "LayoutModel",
       "_view_count": null,
       "_view_module": "@jupyter-widgets/base",
       "_view_module_version": "1.2.0",
       "_view_name": "LayoutView",
       "align_content": null,
       "align_items": null,
       "align_self": null,
       "border": null,
       "bottom": null,
       "display": null,
       "flex": null,
       "flex_flow": null,
       "grid_area": null,
       "grid_auto_columns": null,
       "grid_auto_flow": null,
       "grid_auto_rows": null,
       "grid_column": null,
       "grid_gap": null,
       "grid_row": null,
       "grid_template_areas": null,
       "grid_template_columns": null,
       "grid_template_rows": null,
       "height": null,
       "justify_content": null,
       "justify_items": null,
       "left": null,
       "margin": null,
       "max_height": null,
       "max_width": null,
       "min_height": null,
       "min_width": null,
       "object_fit": null,
       "object_position": null,
       "order": null,
       "overflow": null,
       "overflow_x": null,
       "overflow_y": null,
       "padding": null,
       "right": null,
       "top": null,
       "visibility": null,
       "width": null
      }
     },
     "ebda0b089c0f4c989ef0ab28c6701ca0": {
      "model_module": "@jupyter-widgets/controls",
      "model_module_version": "1.5.0",
      "model_name": "FloatSliderModel",
      "state": {
       "_dom_classes": [],
       "_model_module": "@jupyter-widgets/controls",
       "_model_module_version": "1.5.0",
       "_model_name": "FloatSliderModel",
       "_view_count": null,
       "_view_module": "@jupyter-widgets/controls",
       "_view_module_version": "1.5.0",
       "_view_name": "FloatSliderView",
       "continuous_update": true,
       "description": "$p(b)=$",
       "description_tooltip": null,
       "disabled": false,
       "layout": "IPY_MODEL_09b7a8a26db747c5a5dcb594fc8e3dad",
       "max": 1.0,
       "min": 0.0,
       "orientation": "horizontal",
       "readout": true,
       "readout_format": ".2f",
       "step": 0.01,
       "style": "IPY_MODEL_c2bebe2f62294e0cb5712942e440349e",
       "value": 0.0
      }
     },
     "f3a838aefb3044c98eb6b91f3d3e1cdd": {
      "model_module": "@jupyter-widgets/controls",
      "model_module_version": "1.5.0",
      "model_name": "FloatSliderModel",
      "state": {
       "_dom_classes": [],
       "_model_module": "@jupyter-widgets/controls",
       "_model_module_version": "1.5.0",
       "_model_name": "FloatSliderModel",
       "_view_count": null,
       "_view_module": "@jupyter-widgets/controls",
       "_view_module_version": "1.5.0",
       "_view_name": "FloatSliderView",
       "continuous_update": true,
       "description": "$p$=",
       "description_tooltip": null,
       "disabled": false,
       "layout": "IPY_MODEL_200a271611db47a8a791a5bf77c49e5b",
       "max": 1.0,
       "min": 0.0,
       "orientation": "horizontal",
       "readout": true,
       "readout_format": ".2f",
       "step": 0.01,
       "style": "IPY_MODEL_4ae150be894c4c46bd0b065517cb6e53",
       "value": 1.0
      }
     },
     "fd3ca709c7474d0ba00e8694fed05a98": {
      "model_module": "@jupyter-widgets/controls",
      "model_module_version": "1.5.0",
      "model_name": "FloatSliderModel",
      "state": {
       "_dom_classes": [],
       "_model_module": "@jupyter-widgets/controls",
       "_model_module_version": "1.5.0",
       "_model_name": "FloatSliderModel",
       "_view_count": null,
       "_view_module": "@jupyter-widgets/controls",
       "_view_module_version": "1.5.0",
       "_view_name": "FloatSliderView",
       "continuous_update": true,
       "description": "$p(b)=$",
       "description_tooltip": null,
       "disabled": false,
       "layout": "IPY_MODEL_3ea0415b61364e3b85639631d400c7fd",
       "max": 1.0,
       "min": 0.0,
       "orientation": "horizontal",
       "readout": true,
       "readout_format": ".2f",
       "step": 0.01,
       "style": "IPY_MODEL_24c5d373890a48999769e2e2dc9daccd",
       "value": 0.0
      }
     },
     "ffa54dbc5fa8419c843f0f3e28f15bd9": {
      "model_module": "@jupyter-widgets/base",
      "model_module_version": "1.2.0",
      "model_name": "LayoutModel",
      "state": {
       "_model_module": "@jupyter-widgets/base",
       "_model_module_version": "1.2.0",
       "_model_name": "LayoutModel",
       "_view_count": null,
       "_view_module": "@jupyter-widgets/base",
       "_view_module_version": "1.2.0",
       "_view_name": "LayoutView",
       "align_content": null,
       "align_items": null,
       "align_self": null,
       "border": null,
       "bottom": null,
       "display": null,
       "flex": null,
       "flex_flow": null,
       "grid_area": null,
       "grid_auto_columns": null,
       "grid_auto_flow": null,
       "grid_auto_rows": null,
       "grid_column": null,
       "grid_gap": null,
       "grid_row": null,
       "grid_template_areas": null,
       "grid_template_columns": null,
       "grid_template_rows": null,
       "height": null,
       "justify_content": null,
       "justify_items": null,
       "left": null,
       "margin": null,
       "max_height": null,
       "max_width": null,
       "min_height": null,
       "min_width": null,
       "object_fit": null,
       "object_position": null,
       "order": null,
       "overflow": null,
       "overflow_x": null,
       "overflow_y": null,
       "padding": null,
       "right": null,
       "top": null,
       "visibility": null,
       "width": null
      }
     }
    },
    "version_major": 2,
    "version_minor": 0
   }
  }
 },
 "nbformat": 4,
 "nbformat_minor": 4
}